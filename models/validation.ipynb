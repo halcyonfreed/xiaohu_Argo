{
 "cells": [
  {
   "cell_type": "code",
   "execution_count": 1,
   "metadata": {},
   "outputs": [
    {
     "ename": "ModuleNotFoundError",
     "evalue": "No module named 'models'",
     "output_type": "error",
     "traceback": [
      "\u001b[0;31m---------------------------------------------------------------------------\u001b[0m",
      "\u001b[0;31mModuleNotFoundError\u001b[0m                       Traceback (most recent call last)",
      "Cell \u001b[0;32mIn[1], line 16\u001b[0m\n\u001b[1;32m     10\u001b[0m \u001b[39mfrom\u001b[39;00m \u001b[39margoverse\u001b[39;00m\u001b[39m.\u001b[39;00m\u001b[39mmap_representation\u001b[39;00m\u001b[39m.\u001b[39;00m\u001b[39mmap_api\u001b[39;00m \u001b[39mimport\u001b[39;00m ArgoverseMap\n\u001b[1;32m     12\u001b[0m \u001b[39m# import sys\u001b[39;00m\n\u001b[1;32m     13\u001b[0m \u001b[39m# # module不在同一个目录的, 开头加一个sys.path\u001b[39;00m\n\u001b[1;32m     14\u001b[0m \u001b[39m# sys.path.append(\"/mnt/home/husiyuan/code/argo_my/ARGO1/baseline/HiVT/xiaohu_Argo/models\")\u001b[39;00m\n\u001b[0;32m---> 16\u001b[0m \u001b[39mfrom\u001b[39;00m \u001b[39mmodels\u001b[39;00m\u001b[39m.\u001b[39;00m\u001b[39mxiaohuNet\u001b[39;00m \u001b[39mimport\u001b[39;00m HiVT\n\u001b[1;32m     17\u001b[0m \u001b[39mfrom\u001b[39;00m \u001b[39margoDataset\u001b[39;00m \u001b[39mimport\u001b[39;00m ArgoverseV1Dataset\n\u001b[1;32m     18\u001b[0m \u001b[39mfrom\u001b[39;00m \u001b[39margoverse\u001b[39;00m\u001b[39m.\u001b[39;00m\u001b[39mevaluation\u001b[39;00m\u001b[39m.\u001b[39;00m\u001b[39mcompetition_util\u001b[39;00m \u001b[39mimport\u001b[39;00m generate_forecasting_h5\n",
      "\u001b[0;31mModuleNotFoundError\u001b[0m: No module named 'models'"
     ]
    }
   ],
   "source": [
    "import matplotlib.pyplot as plt\n",
    "import numpy as np\n",
    "import os\n",
    "\n",
    "from itertools import permutations, product\n",
    "from typing import Tuple, List, Dict\n",
    "import json\n",
    "from tqdm.auto import tqdm\n",
    "import torch\n",
    "from argoverse.map_representation.map_api import ArgoverseMap\n",
    "\n",
    "# import sys\n",
    "# # module不在同一个目录的, 开头加一个sys.path\n",
    "# sys.path.append(\"/mnt/home/husiyuan/code/argo_my/ARGO1/baseline/HiVT/xiaohu_Argo/models\")\n",
    "\n",
    "from models.xiaohuNet import HiVT\n",
    "from argoDataset import ArgoverseV1Dataset\n",
    "from argoverse.evaluation.competition_util import generate_forecasting_h5\n",
    "\n",
    "\n",
    "checkpoint_path = \"/mnt/home/husiyuan/code/argo_my/ARGO1/baseline/HiVT/xiaohu_Argo/lightning_logs/version_2/checkpoints/epoch=63-step=102975.ckpt\"\n",
    "model = HiVT.load_from_checkpoint(checkpoint_path=checkpoint_path, parallel=False)\n",
    "model.eval()\n",
    "#但是好像更差了  I notice that the model should use \"model.eval()\" to deactivate all dropout layers before validation. With this, the result improves a lot.\n",
    "\n",
    "split = 'val'\n",
    "dataset = ArgoverseV1Dataset(root=\"/mnt/home/husiyuan/code/argo_my/ARGO1/data/\", split=split, local_radius=model.hparams.local_radius)\n"
   ]
  },
  {
   "cell_type": "code",
   "execution_count": 4,
   "metadata": {},
   "outputs": [
    {
     "ename": "ModuleNotFoundError",
     "evalue": "No module named 'models'",
     "output_type": "error",
     "traceback": [
      "\u001b[0;31m---------------------------------------------------------------------------\u001b[0m",
      "\u001b[0;31mModuleNotFoundError\u001b[0m                       Traceback (most recent call last)",
      "Cell \u001b[0;32mIn[4], line 1\u001b[0m\n\u001b[0;32m----> 1\u001b[0m \u001b[39mfrom\u001b[39;00m \u001b[39mmodels\u001b[39;00m\u001b[39m.\u001b[39;00m\u001b[39mxiaohuNet\u001b[39;00m \u001b[39mimport\u001b[39;00m HiVT\n",
      "\u001b[0;31mModuleNotFoundError\u001b[0m: No module named 'models'"
     ]
    }
   ],
   "source": [
    "from models.xiaohuNet import HiVT"
   ]
  },
  {
   "cell_type": "code",
   "execution_count": null,
   "metadata": {},
   "outputs": [],
   "source": []
  }
 ],
 "metadata": {
  "kernelspec": {
   "display_name": "hivt",
   "language": "python",
   "name": "python3"
  },
  "language_info": {
   "codemirror_mode": {
    "name": "ipython",
    "version": 3
   },
   "file_extension": ".py",
   "mimetype": "text/x-python",
   "name": "python",
   "nbconvert_exporter": "python",
   "pygments_lexer": "ipython3",
   "version": "3.8.16"
  },
  "orig_nbformat": 4
 },
 "nbformat": 4,
 "nbformat_minor": 2
}
