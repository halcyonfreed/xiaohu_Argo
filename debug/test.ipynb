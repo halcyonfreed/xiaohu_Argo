{
 "cells": [
  {
   "cell_type": "code",
   "execution_count": 1,
   "metadata": {},
   "outputs": [
    {
     "ename": "ModuleNotFoundError",
     "evalue": "No module named 'models'",
     "output_type": "error",
     "traceback": [
      "\u001b[0;31m---------------------------------------------------------------------------\u001b[0m",
      "\u001b[0;31mModuleNotFoundError\u001b[0m                       Traceback (most recent call last)",
      "Cell \u001b[0;32mIn[1], line 1\u001b[0m\n\u001b[0;32m----> 1\u001b[0m \u001b[39mimport\u001b[39;00m \u001b[39mmodels\u001b[39;00m\n",
      "\u001b[0;31mModuleNotFoundError\u001b[0m: No module named 'models'"
     ]
    }
   ],
   "source": [
    "import models"
   ]
  },
  {
   "cell_type": "code",
   "execution_count": 3,
   "metadata": {},
   "outputs": [
    {
     "ename": "ModuleNotFoundError",
     "evalue": "No module named 'models'",
     "output_type": "error",
     "traceback": [
      "\u001b[0;31m---------------------------------------------------------------------------\u001b[0m",
      "\u001b[0;31mModuleNotFoundError\u001b[0m                       Traceback (most recent call last)",
      "Cell \u001b[0;32mIn[3], line 17\u001b[0m\n\u001b[1;32m     10\u001b[0m \u001b[39mfrom\u001b[39;00m \u001b[39margoverse\u001b[39;00m\u001b[39m.\u001b[39;00m\u001b[39mmap_representation\u001b[39;00m\u001b[39m.\u001b[39;00m\u001b[39mmap_api\u001b[39;00m \u001b[39mimport\u001b[39;00m ArgoverseMap\n\u001b[1;32m     11\u001b[0m \u001b[39m# import sys\u001b[39;00m\n\u001b[1;32m     12\u001b[0m \u001b[39m# module不在同一个目录的, 开头加一个sys.path\u001b[39;00m\n\u001b[1;32m     13\u001b[0m \u001b[39m# sys.path.append('HiVT')\u001b[39;00m\n\u001b[1;32m     14\u001b[0m \u001b[39m# sys.path.append('HiVT/datasets')\u001b[39;00m\n\u001b[0;32m---> 17\u001b[0m \u001b[39mfrom\u001b[39;00m \u001b[39mmodels\u001b[39;00m\u001b[39m.\u001b[39;00m\u001b[39mxiaohuNet\u001b[39;00m \u001b[39mimport\u001b[39;00m HiVT\n\u001b[1;32m     19\u001b[0m \u001b[39mfrom\u001b[39;00m \u001b[39margoDataset\u001b[39;00m \u001b[39mimport\u001b[39;00m process_argoverse, get_lane_features, ArgoverseV1Dataset\n\u001b[1;32m     20\u001b[0m \u001b[39mfrom\u001b[39;00m \u001b[39mutils\u001b[39;00m \u001b[39mimport\u001b[39;00m TemporalData\n",
      "\u001b[0;31mModuleNotFoundError\u001b[0m: No module named 'models'"
     ]
    }
   ],
   "source": [
    "import matplotlib.pyplot as plt\n",
    "import numpy as np\n",
    "import os\n",
    "\n",
    "from itertools import permutations, product\n",
    "from typing import Tuple, List, Dict\n",
    "import json\n",
    "from tqdm.auto import tqdm\n",
    "import torch\n",
    "from argoverse.map_representation.map_api import ArgoverseMap\n",
    "# import sys\n",
    "# module不在同一个目录的, 开头加一个sys.path\n",
    "# sys.path.append('HiVT')\n",
    "# sys.path.append('HiVT/datasets')\n",
    "\n",
    "\n",
    "from models.xiaohuNet import HiVT\n",
    "\n",
    "from argoDataset import process_argoverse, get_lane_features, ArgoverseV1Dataset\n",
    "from utils import TemporalData\n",
    "\n",
    "from argoverse.map_representation.map_api import ArgoverseMap\n",
    "from argoverse.data_loading.argoverse_forecasting_loader import ArgoverseForecastingLoader\n",
    "from argoverse.evaluation.competition_util import generate_forecasting_h5\n"
   ]
  },
  {
   "cell_type": "code",
   "execution_count": 2,
   "metadata": {},
   "outputs": [],
   "source": [
    "\n",
    "checkpoint_path = \"/mnt/home/husiyuan/code/argo_my/ARGO1/baseline/HiVT/xiaohu_Argo/lightning_logs/version_2/checkpoints/epoch=63-step=102975.ckpt\"\n",
    "model = HiVT.load_from_checkpoint(checkpoint_path=checkpoint_path, parallel=False)\n",
    "\n",
    "split = 'test'\n",
    "dataset = ArgoverseV1Dataset(root=\"/mnt/home/husiyuan/code/argo_my/ARGO1/data/\", split=split, local_radius=model.hparams.local_radius)\n"
   ]
  },
  {
   "attachments": {},
   "cell_type": "markdown",
   "metadata": {},
   "source": [
    "从这里问题开始调试 debug"
   ]
  },
  {
   "cell_type": "code",
   "execution_count": 3,
   "metadata": {},
   "outputs": [
    {
     "data": {
      "application/vnd.jupyter.widget-view+json": {
       "model_id": "a15b7d1ce7dd4f129f4659ec8e1c9abe",
       "version_major": 2,
       "version_minor": 0
      },
      "text/plain": [
       "  0%|          | 0/2 [00:00<?, ?it/s]"
      ]
     },
     "metadata": {},
     "output_type": "display_data"
    },
    {
     "name": "stdout",
     "output_type": "stream",
     "text": [
      "TemporalData(agent_index=12, av_index=0, bos_mask=[35, 20], city=\"PIT\", edge_index=[2, 1190], is_intersections=[1215], lane_actor_index=[2, 8408], lane_actor_vectors=[8408, 2], lane_vectors=[1215, 2], origin=[1, 2], padding_mask=[35, 50], positions=[35, 50, 2], rotate_angles=[35], seq_id=21842, theta=-2.8257100582122803, traffic_controls=[1215], turn_directions=[1215], x=[35, 20, 2])\n",
      "tensor([[[ 0.0000e+00,  0.0000e+00],\n",
      "         [ 1.0644e+00,  2.0394e-02],\n",
      "         [ 1.2809e+00,  2.8284e-02],\n",
      "         ...,\n",
      "         [ 8.3457e-01,  3.3387e-03],\n",
      "         [ 8.7863e-01,  1.0108e-03],\n",
      "         [ 8.5274e-01,  5.6043e-09]],\n",
      "\n",
      "        [[ 0.0000e+00,  0.0000e+00],\n",
      "         [-1.1078e+00,  1.2372e+00],\n",
      "         [-7.4362e-01,  6.3645e-01],\n",
      "         ...,\n",
      "         [ 0.0000e+00,  0.0000e+00],\n",
      "         [ 0.0000e+00,  0.0000e+00],\n",
      "         [ 0.0000e+00,  0.0000e+00]],\n",
      "\n",
      "        [[ 0.0000e+00,  0.0000e+00],\n",
      "         [ 1.3195e+00,  8.7605e-03],\n",
      "         [ 1.1594e+00,  1.8554e-02],\n",
      "         ...,\n",
      "         [ 9.2434e-01,  4.1485e-02],\n",
      "         [ 1.8549e+00, -1.6861e-01],\n",
      "         [ 7.3415e-01,  2.4817e-01]],\n",
      "\n",
      "        ...,\n",
      "\n",
      "        [[ 0.0000e+00,  0.0000e+00],\n",
      "         [ 0.0000e+00,  0.0000e+00],\n",
      "         [ 0.0000e+00,  0.0000e+00],\n",
      "         ...,\n",
      "         [ 0.0000e+00,  0.0000e+00],\n",
      "         [ 0.0000e+00,  0.0000e+00],\n",
      "         [ 0.0000e+00,  0.0000e+00]],\n",
      "\n",
      "        [[ 0.0000e+00,  0.0000e+00],\n",
      "         [ 0.0000e+00,  0.0000e+00],\n",
      "         [ 0.0000e+00,  0.0000e+00],\n",
      "         ...,\n",
      "         [ 0.0000e+00,  0.0000e+00],\n",
      "         [ 0.0000e+00,  0.0000e+00],\n",
      "         [-1.7738e-03,  2.0903e-02]],\n",
      "\n",
      "        [[ 0.0000e+00,  0.0000e+00],\n",
      "         [ 0.0000e+00,  0.0000e+00],\n",
      "         [ 0.0000e+00,  0.0000e+00],\n",
      "         ...,\n",
      "         [ 0.0000e+00,  0.0000e+00],\n",
      "         [ 0.0000e+00,  0.0000e+00],\n",
      "         [ 0.0000e+00,  0.0000e+00]]])\n",
      "tensor([[[-19.7656,  -0.2863],\n",
      "         [-18.7013,  -0.2659],\n",
      "         [-17.4204,  -0.2376],\n",
      "         ...,\n",
      "         [  0.0000,   0.0000],\n",
      "         [  0.0000,   0.0000],\n",
      "         [  0.0000,   0.0000]],\n",
      "\n",
      "        [[-76.2280,  48.6873],\n",
      "         [-77.3358,  49.9245],\n",
      "         [-78.0795,  50.5610],\n",
      "         ...,\n",
      "         [  0.0000,   0.0000],\n",
      "         [  0.0000,   0.0000],\n",
      "         [  0.0000,   0.0000]],\n",
      "\n",
      "        [[ 47.0472,   3.4588],\n",
      "         [ 48.3666,   3.4676],\n",
      "         [ 49.5261,   3.4861],\n",
      "         ...,\n",
      "         [  0.0000,   0.0000],\n",
      "         [  0.0000,   0.0000],\n",
      "         [  0.0000,   0.0000]],\n",
      "\n",
      "        ...,\n",
      "\n",
      "        [[  0.0000,   0.0000],\n",
      "         [  0.0000,   0.0000],\n",
      "         [  0.0000,   0.0000],\n",
      "         ...,\n",
      "         [  0.0000,   0.0000],\n",
      "         [  0.0000,   0.0000],\n",
      "         [  0.0000,   0.0000]],\n",
      "\n",
      "        [[  0.0000,   0.0000],\n",
      "         [  0.0000,   0.0000],\n",
      "         [  0.0000,   0.0000],\n",
      "         ...,\n",
      "         [  0.0000,   0.0000],\n",
      "         [  0.0000,   0.0000],\n",
      "         [  0.0000,   0.0000]],\n",
      "\n",
      "        [[  0.0000,   0.0000],\n",
      "         [  0.0000,   0.0000],\n",
      "         [  0.0000,   0.0000],\n",
      "         ...,\n",
      "         [  0.0000,   0.0000],\n",
      "         [  0.0000,   0.0000],\n",
      "         [  0.0000,   0.0000]]])\n",
      "TemporalData(agent_index=12, av_index=0, bos_mask=[40, 20], city=\"PIT\", edge_index=[2, 1560], is_intersections=[1611], lane_actor_index=[2, 12210], lane_actor_vectors=[12210, 2], lane_vectors=[1611, 2], origin=[1, 2], padding_mask=[40, 50], positions=[40, 50, 2], rotate_angles=[40], seq_id=62169, theta=-0.1828133463859558, traffic_controls=[1611], turn_directions=[1611], x=[40, 20, 2])\n",
      "tensor([[[ 0.0000e+00,  0.0000e+00],\n",
      "         [ 5.0821e-01,  3.6326e-02],\n",
      "         [ 4.5636e-01,  1.0395e-01],\n",
      "         ...,\n",
      "         [ 5.3551e-01,  1.4900e-02],\n",
      "         [ 5.9803e-01,  7.7902e-03],\n",
      "         [ 5.4733e-01,  6.2691e-09]],\n",
      "\n",
      "        [[ 0.0000e+00,  0.0000e+00],\n",
      "         [ 6.5230e-01,  7.7248e-01],\n",
      "         [ 2.4846e-01,  1.1587e-01],\n",
      "         ...,\n",
      "         [ 3.2410e-01,  1.7004e-01],\n",
      "         [ 4.7774e-01,  1.5146e-01],\n",
      "         [ 4.1736e-01,  1.5309e-01]],\n",
      "\n",
      "        [[ 0.0000e+00,  0.0000e+00],\n",
      "         [ 2.1308e-01,  9.3689e-02],\n",
      "         [ 3.2065e-01,  2.8403e-01],\n",
      "         ...,\n",
      "         [ 0.0000e+00,  0.0000e+00],\n",
      "         [ 0.0000e+00,  0.0000e+00],\n",
      "         [ 0.0000e+00,  0.0000e+00]],\n",
      "\n",
      "        ...,\n",
      "\n",
      "        [[ 0.0000e+00,  0.0000e+00],\n",
      "         [ 0.0000e+00,  0.0000e+00],\n",
      "         [ 0.0000e+00,  0.0000e+00],\n",
      "         ...,\n",
      "         [ 0.0000e+00,  0.0000e+00],\n",
      "         [ 5.4528e-01, -7.2860e-02],\n",
      "         [ 5.7197e-01, -6.8144e-02]],\n",
      "\n",
      "        [[ 0.0000e+00,  0.0000e+00],\n",
      "         [ 0.0000e+00,  0.0000e+00],\n",
      "         [ 0.0000e+00,  0.0000e+00],\n",
      "         ...,\n",
      "         [ 0.0000e+00,  0.0000e+00],\n",
      "         [ 0.0000e+00,  0.0000e+00],\n",
      "         [-2.7445e-02, -1.1360e-02]],\n",
      "\n",
      "        [[ 0.0000e+00,  0.0000e+00],\n",
      "         [ 0.0000e+00,  0.0000e+00],\n",
      "         [ 0.0000e+00,  0.0000e+00],\n",
      "         ...,\n",
      "         [ 0.0000e+00,  0.0000e+00],\n",
      "         [ 0.0000e+00,  0.0000e+00],\n",
      "         [ 0.0000e+00,  0.0000e+00]]])\n",
      "tensor([[[ -9.5468,  -1.0346],\n",
      "         [ -9.0386,  -0.9983],\n",
      "         [ -8.5822,  -0.8944],\n",
      "         ...,\n",
      "         [  0.0000,   0.0000],\n",
      "         [  0.0000,   0.0000],\n",
      "         [  0.0000,   0.0000]],\n",
      "\n",
      "        [[-19.1832,  -5.1687],\n",
      "         [-18.5309,  -4.3962],\n",
      "         [-18.2825,  -4.2803],\n",
      "         ...,\n",
      "         [  0.0000,   0.0000],\n",
      "         [  0.0000,   0.0000],\n",
      "         [  0.0000,   0.0000]],\n",
      "\n",
      "        [[-25.0017,  -7.6872],\n",
      "         [-24.7886,  -7.5935],\n",
      "         [-24.4679,  -7.3095],\n",
      "         ...,\n",
      "         [  0.0000,   0.0000],\n",
      "         [  0.0000,   0.0000],\n",
      "         [  0.0000,   0.0000]],\n",
      "\n",
      "        ...,\n",
      "\n",
      "        [[  0.0000,   0.0000],\n",
      "         [  0.0000,   0.0000],\n",
      "         [  0.0000,   0.0000],\n",
      "         ...,\n",
      "         [  0.0000,   0.0000],\n",
      "         [  0.0000,   0.0000],\n",
      "         [  0.0000,   0.0000]],\n",
      "\n",
      "        [[  0.0000,   0.0000],\n",
      "         [  0.0000,   0.0000],\n",
      "         [  0.0000,   0.0000],\n",
      "         ...,\n",
      "         [  0.0000,   0.0000],\n",
      "         [  0.0000,   0.0000],\n",
      "         [  0.0000,   0.0000]],\n",
      "\n",
      "        [[  0.0000,   0.0000],\n",
      "         [  0.0000,   0.0000],\n",
      "         [  0.0000,   0.0000],\n",
      "         ...,\n",
      "         [  0.0000,   0.0000],\n",
      "         [  0.0000,   0.0000],\n",
      "         [  0.0000,   0.0000]]])\n"
     ]
    }
   ],
   "source": [
    "for i, inp in enumerate(tqdm(dataset[0:2])):\n",
    "    # x = inp.x.numpy()\n",
    "    # y = inp.y.numpy()\n",
    "    # seq_id = inp.seq_id\n",
    "    # positions = inp.positions.numpy()\n",
    "    # print(help(inp))\n",
    "    print(inp)\n",
    "    print(inp.x)\n",
    "    print(inp.positions)"
   ]
  },
  {
   "attachments": {},
   "cell_type": "markdown",
   "metadata": {},
   "source": [
    "TemporalData(\n",
    "    agent_index=12, \n",
    "    av_index=0, \n",
    "    bos_mask=[35, 20], \n",
    "    city=\"PIT\", \n",
    "    edge_index=[2, 1190], \n",
    "    is_intersections=[1215], \n",
    "    lane_actor_index=[2, 8408], \n",
    "    lane_actor_vectors=[8408, 2], \n",
    "    lane_vectors=[1215, 2], \n",
    "    origin=[1, 2], \n",
    "    padding_mask=[35, 50],\n",
    "    positions=[35, 50, 2], \n",
    "    rotate_angles=[35], \n",
    "    seq_id=21842, \n",
    "    theta=-2.8257100582122803, \n",
    "    traffic_controls=[1215], \n",
    "    turn_directions=[1215], \n",
    "    x=[35, 20, 2])"
   ]
  },
  {
   "cell_type": "code",
   "execution_count": 4,
   "metadata": {},
   "outputs": [],
   "source": [
    "# try\n",
    "output_all_k6 = {}\n",
    "probs_all = {}"
   ]
  },
  {
   "cell_type": "code",
   "execution_count": 5,
   "metadata": {},
   "outputs": [
    {
     "data": {
      "application/vnd.jupyter.widget-view+json": {
       "model_id": "90b5ba3bb3354b16beb5c254ec00c21f",
       "version_major": 2,
       "version_minor": 0
      },
      "text/plain": [
       "  0%|          | 0/78143 [00:00<?, ?it/s]"
      ]
     },
     "metadata": {},
     "output_type": "display_data"
    }
   ],
   "source": [
    "for i, inp in enumerate(tqdm(dataset)):\n",
    "    x = inp.x.numpy() #\n",
    "    # y = inp.y.numpy() # testset没有y\n",
    "    seq_id = inp.seq_id\n",
    "    positions = inp.positions.numpy() # positions是补值前的x的clone\n",
    "    # the location of the ego vehicle at TIMESTAMP=19 自车是原点\n",
    "    origin = inp.origin.numpy().squeeze() # [1,2]->[2] tensor->numpy\n",
    "    \n",
    "    # the index of the focal agent 当前处理的agent车\n",
    "    agent_index = inp.agent_index\n",
    "    \n",
    "    # ego_heading at TIMESTAMP=19  自车的朝向角\n",
    "    ego_heading = inp.theta.numpy()\n",
    "    # 当前处理的车（自车or他车）和自车的角度差 弧度制\n",
    "    ro_angle = inp.rotate_angles[agent_index].numpy()\n",
    "    \n",
    "    # Global rotation to align with ego vehicle\n",
    "    rotate_mat = np.array([\n",
    "        [np.cos(ego_heading), -np.sin(ego_heading)],\n",
    "        [np.sin(ego_heading), np.cos(ego_heading)]\n",
    "    ])\n",
    "    \n",
    "    R =  np.array([\n",
    "                    [np.cos(ro_angle), -np.sin(ro_angle)],\n",
    "                    [np.sin(ro_angle), np.cos(ro_angle)]\n",
    "                ])\n",
    "    \n",
    "\n",
    "    # we recover the agent trajectory from the inputs, just as a sanity check\n",
    "    offset = positions[agent_index, 19, :]\n",
    "    hist = (np.cumsum(-x[agent_index, 20::-1, :], axis=0)[::-1, :] + offset) @ rotate_mat.T + origin\n",
    "    # fut =  (y[agent_index, :, :] + offset) @ rotate_mat.T + origin\n",
    "    \n",
    "\n",
    "    res, res_pi = model(inp)\n",
    "    agt_res = res[:, agent_index, :, :].detach().cpu().numpy() # [6, num_agents, 30, 2]\n",
    "\n",
    "    probs = torch.softmax(res_pi[agent_index], dim=0)\n",
    "    \n",
    "    agt_res_origin = (agt_res[:, :, :2] @ R.T + offset) @ rotate_mat.T + origin\n",
    "    \n",
    "    probs_all[seq_id] = probs.detach().cpu().numpy()\n",
    "    output_all_k6[seq_id] = agt_res_origin"
   ]
  },
  {
   "cell_type": "code",
   "execution_count": 6,
   "metadata": {},
   "outputs": [
    {
     "name": "stdout",
     "output_type": "stream",
     "text": [
      "78143/78143"
     ]
    }
   ],
   "source": [
    "output_path = 'competition_files/'\n",
    "generate_forecasting_h5(output_all_k6, output_path, probabilities= probs_all, filename = 'HiVT128') #this might take a while"
   ]
  },
  {
   "attachments": {},
   "cell_type": "markdown",
   "metadata": {},
   "source": [
    "示例"
   ]
  }
 ],
 "metadata": {
  "kernelspec": {
   "display_name": "hivt",
   "language": "python",
   "name": "python3"
  },
  "language_info": {
   "codemirror_mode": {
    "name": "ipython",
    "version": 3
   },
   "file_extension": ".py",
   "mimetype": "text/x-python",
   "name": "python",
   "nbconvert_exporter": "python",
   "pygments_lexer": "ipython3",
   "version": "3.8.16"
  },
  "orig_nbformat": 4
 },
 "nbformat": 4,
 "nbformat_minor": 2
}
